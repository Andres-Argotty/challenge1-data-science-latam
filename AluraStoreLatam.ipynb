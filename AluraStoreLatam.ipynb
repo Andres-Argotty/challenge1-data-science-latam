{
 "nbformat": 4,
 "nbformat_minor": 0,
 "metadata": {
  "colab": {
   "provenance": []
  },
  "kernelspec": {
   "name": "python3",
   "display_name": "Python 3"
  },
  "language_info": {
   "name": "python"
  }
 },
 "cells": [
  {
   "cell_type": "markdown",
   "source": [
    "### Importación de datos\n",
    "\n"
   ],
   "metadata": {
    "id": "RhEdWd9YUR6H"
   }
  },
  {
   "cell_type": "code",
   "metadata": {
    "colab": {
     "base_uri": "https://localhost:8080/",
     "height": 206
    },
    "id": "T3EvaeQ_INIL",
    "outputId": "e9c5efe1-82a3-43ab-e8d7-6d01e4fa3514",
    "ExecuteTime": {
     "end_time": "2025-04-21T01:08:57.818274Z",
     "start_time": "2025-04-21T01:08:57.766391Z"
    }
   },
   "source": [
    "import pandas as pd\n",
    "\n",
    "url = 'base-de-datos-challenge1-latam/tienda_1 .csv'\n",
    "url2 ='base-de-datos-challenge1-latam/tienda_2.csv'\n",
    "url3 ='base-de-datos-challenge1-latam/tienda_3.csv'\n",
    "url4 ='base-de-datos-challenge1-latam/tienda_4.csv'\n",
    "\n",
    "tienda = pd.read_csv(url)\n",
    "tienda2 = pd.read_csv(url2)\n",
    "tienda3 = pd.read_csv(url3)\n",
    "tienda4 = pd.read_csv(url4)\n",
    "\n",
    "tienda.head()"
   ],
   "outputs": [
    {
     "data": {
      "text/plain": [
       "            Producto Categoría del Producto    Precio  Costo de envío  \\\n",
       "0  Asistente virtual           Electrónicos  164300.0          6900.0   \n",
       "1    Mesa de comedor                Muebles  192300.0          8400.0   \n",
       "2      Juego de mesa               Juguetes  209600.0         15900.0   \n",
       "3         Microondas      Electrodomésticos  757500.0         41000.0   \n",
       "4   Silla de oficina                Muebles  335200.0         20200.0   \n",
       "\n",
       "  Fecha de Compra         Vendedor Lugar de Compra  Calificación  \\\n",
       "0      16/01/2021      Pedro Gomez          Bogotá             4   \n",
       "1      18/05/2022  Beatriz Morales        Medellín             1   \n",
       "2      15/03/2021   Juan Fernandez       Cartagena             1   \n",
       "3      03/05/2022   Juan Fernandez            Cali             4   \n",
       "4      07/11/2020    Maria Alfonso        Medellín             5   \n",
       "\n",
       "       Método de pago  Cantidad de cuotas       lat       lon  \n",
       "0  Tarjeta de crédito                   8   4.60971 -74.08175  \n",
       "1  Tarjeta de crédito                   4   6.25184 -75.56359  \n",
       "2  Tarjeta de crédito                   1  10.39972 -75.51444  \n",
       "3               Nequi                   1   3.43722 -76.52250  \n",
       "4               Nequi                   1   6.25184 -75.56359  "
      ],
      "text/html": [
       "<div>\n",
       "<style scoped>\n",
       "    .dataframe tbody tr th:only-of-type {\n",
       "        vertical-align: middle;\n",
       "    }\n",
       "\n",
       "    .dataframe tbody tr th {\n",
       "        vertical-align: top;\n",
       "    }\n",
       "\n",
       "    .dataframe thead th {\n",
       "        text-align: right;\n",
       "    }\n",
       "</style>\n",
       "<table border=\"1\" class=\"dataframe\">\n",
       "  <thead>\n",
       "    <tr style=\"text-align: right;\">\n",
       "      <th></th>\n",
       "      <th>Producto</th>\n",
       "      <th>Categoría del Producto</th>\n",
       "      <th>Precio</th>\n",
       "      <th>Costo de envío</th>\n",
       "      <th>Fecha de Compra</th>\n",
       "      <th>Vendedor</th>\n",
       "      <th>Lugar de Compra</th>\n",
       "      <th>Calificación</th>\n",
       "      <th>Método de pago</th>\n",
       "      <th>Cantidad de cuotas</th>\n",
       "      <th>lat</th>\n",
       "      <th>lon</th>\n",
       "    </tr>\n",
       "  </thead>\n",
       "  <tbody>\n",
       "    <tr>\n",
       "      <th>0</th>\n",
       "      <td>Asistente virtual</td>\n",
       "      <td>Electrónicos</td>\n",
       "      <td>164300.0</td>\n",
       "      <td>6900.0</td>\n",
       "      <td>16/01/2021</td>\n",
       "      <td>Pedro Gomez</td>\n",
       "      <td>Bogotá</td>\n",
       "      <td>4</td>\n",
       "      <td>Tarjeta de crédito</td>\n",
       "      <td>8</td>\n",
       "      <td>4.60971</td>\n",
       "      <td>-74.08175</td>\n",
       "    </tr>\n",
       "    <tr>\n",
       "      <th>1</th>\n",
       "      <td>Mesa de comedor</td>\n",
       "      <td>Muebles</td>\n",
       "      <td>192300.0</td>\n",
       "      <td>8400.0</td>\n",
       "      <td>18/05/2022</td>\n",
       "      <td>Beatriz Morales</td>\n",
       "      <td>Medellín</td>\n",
       "      <td>1</td>\n",
       "      <td>Tarjeta de crédito</td>\n",
       "      <td>4</td>\n",
       "      <td>6.25184</td>\n",
       "      <td>-75.56359</td>\n",
       "    </tr>\n",
       "    <tr>\n",
       "      <th>2</th>\n",
       "      <td>Juego de mesa</td>\n",
       "      <td>Juguetes</td>\n",
       "      <td>209600.0</td>\n",
       "      <td>15900.0</td>\n",
       "      <td>15/03/2021</td>\n",
       "      <td>Juan Fernandez</td>\n",
       "      <td>Cartagena</td>\n",
       "      <td>1</td>\n",
       "      <td>Tarjeta de crédito</td>\n",
       "      <td>1</td>\n",
       "      <td>10.39972</td>\n",
       "      <td>-75.51444</td>\n",
       "    </tr>\n",
       "    <tr>\n",
       "      <th>3</th>\n",
       "      <td>Microondas</td>\n",
       "      <td>Electrodomésticos</td>\n",
       "      <td>757500.0</td>\n",
       "      <td>41000.0</td>\n",
       "      <td>03/05/2022</td>\n",
       "      <td>Juan Fernandez</td>\n",
       "      <td>Cali</td>\n",
       "      <td>4</td>\n",
       "      <td>Nequi</td>\n",
       "      <td>1</td>\n",
       "      <td>3.43722</td>\n",
       "      <td>-76.52250</td>\n",
       "    </tr>\n",
       "    <tr>\n",
       "      <th>4</th>\n",
       "      <td>Silla de oficina</td>\n",
       "      <td>Muebles</td>\n",
       "      <td>335200.0</td>\n",
       "      <td>20200.0</td>\n",
       "      <td>07/11/2020</td>\n",
       "      <td>Maria Alfonso</td>\n",
       "      <td>Medellín</td>\n",
       "      <td>5</td>\n",
       "      <td>Nequi</td>\n",
       "      <td>1</td>\n",
       "      <td>6.25184</td>\n",
       "      <td>-75.56359</td>\n",
       "    </tr>\n",
       "  </tbody>\n",
       "</table>\n",
       "</div>"
      ]
     },
     "execution_count": 8,
     "metadata": {},
     "output_type": "execute_result"
    }
   ],
   "execution_count": 8
  },
  {
   "cell_type": "markdown",
   "source": [
    "# 1. Análisis de facturación\n",
    "\n"
   ],
   "metadata": {
    "id": "X62IW3KFUIYm"
   }
  },
  {
   "cell_type": "code",
   "source": [
    "ingreso_total_tienda1= tienda.Precio.sum()\n",
    "ingreso_total_tienda2= tienda2.Precio.sum()\n",
    "ingreso_total_tienda3= tienda3.Precio.sum()\n",
    "ingreso_total_tienda4= tienda4.Precio.sum()\n",
    "\n",
    "print(\"El ingreso total de la tienda 1 es: {:,.0f}\\nEl ingreso total de la tienda 2 es: {:,.0f}\\nEl ingreso total de la tienda 3 es: {:,.0f}\\nEl ingreso total de la tienda 4 es: {:,.0f}\".format(ingreso_total_tienda1,ingreso_total_tienda2,ingreso_total_tienda3,ingreso_total_tienda4))\n",
    "\n"
   ],
   "metadata": {
    "id": "xykobSftV64I",
    "ExecuteTime": {
     "end_time": "2025-04-21T01:14:42.722987Z",
     "start_time": "2025-04-21T01:14:42.715566Z"
    }
   },
   "outputs": [
    {
     "name": "stdout",
     "output_type": "stream",
     "text": [
      "El ingreso total de la tienda 1 es: 1,150,880,400\n",
      "El ingreso total de la tienda 2 es: 1,116,343,500\n",
      "El ingreso total de la tienda 3 es: 1,098,019,600\n",
      "El ingreso total de la tienda 4 es: 1,038,375,700\n"
     ]
    }
   ],
   "execution_count": 18
  },
  {
   "cell_type": "code",
   "source": [],
   "metadata": {
    "id": "KDyr8E71V3m-"
   },
   "execution_count": null,
   "outputs": []
  },
  {
   "cell_type": "markdown",
   "source": [
    "# 2. Ventas por categoría"
   ],
   "metadata": {
    "id": "2V_vcAPzWZmR"
   }
  },
  {
   "cell_type": "code",
   "source": [
    "categoria_tienda1= tienda.groupby('Categoría del Producto').size().sort_values(ascending=False)\n",
    "categoria_tienda2= tienda2.groupby('Categoría del Producto').size().sort_values(ascending=False)\n",
    "categoria_tienda3= tienda3.groupby('Categoría del Producto').size().sort_values(ascending=False)\n",
    "categoria_tienda4= tienda4.groupby('Categoría del Producto').size().sort_values(ascending=False)\n",
    "\n",
    "# TODO Revisar si se puede mejorar la impresion de los resultados\n",
    "lista_categoria_tiendas=[['Categorías tienda1:', categoria_tienda1],['Categorías tienda2:', categoria_tienda2],['Categorías tienda3:', categoria_tienda3],['Categorías tienda4:', categoria_tienda4]]\n",
    "print(lista_categoria_tiendas)\n"
   ],
   "metadata": {
    "id": "A34YupIuYhfF",
    "ExecuteTime": {
     "end_time": "2025-04-21T01:18:31.510977Z",
     "start_time": "2025-04-21T01:18:31.499688Z"
    }
   },
   "outputs": [
    {
     "name": "stdout",
     "output_type": "stream",
     "text": [
      "[['Categorías tienda1:', Categoría del Producto\n",
      "Muebles                    465\n",
      "Electrónicos               448\n",
      "Juguetes                   324\n",
      "Electrodomésticos          312\n",
      "Deportes y diversión       284\n",
      "Instrumentos musicales     182\n",
      "Libros                     173\n",
      "Artículos para el hogar    171\n",
      "dtype: int64], ['Categorías tienda2:', Categoría del Producto\n",
      "Muebles                    442\n",
      "Electrónicos               422\n",
      "Juguetes                   313\n",
      "Electrodomésticos          305\n",
      "Deportes y diversión       275\n",
      "Instrumentos musicales     224\n",
      "Libros                     197\n",
      "Artículos para el hogar    181\n",
      "dtype: int64], ['Categorías tienda3:', Categoría del Producto\n",
      "Muebles                    499\n",
      "Electrónicos               451\n",
      "Juguetes                   315\n",
      "Electrodomésticos          278\n",
      "Deportes y diversión       277\n",
      "Libros                     185\n",
      "Artículos para el hogar    177\n",
      "Instrumentos musicales     177\n",
      "dtype: int64], ['Categorías tienda4:', Categoría del Producto\n",
      "Muebles                    480\n",
      "Electrónicos               451\n",
      "Juguetes                   338\n",
      "Deportes y diversión       277\n",
      "Electrodomésticos          254\n",
      "Artículos para el hogar    201\n",
      "Libros                     187\n",
      "Instrumentos musicales     170\n",
      "dtype: int64]]\n"
     ]
    }
   ],
   "execution_count": 26
  },
  {
   "cell_type": "code",
   "source": [],
   "metadata": {
    "id": "yZR6cOjXYSk1"
   },
   "execution_count": null,
   "outputs": []
  },
  {
   "cell_type": "markdown",
   "source": [
    "# 3. Calificación promedio de la tienda\n"
   ],
   "metadata": {
    "id": "Rq6tU_xSY3jk"
   }
  },
  {
   "cell_type": "code",
   "source": [
    "media_tienda1= tienda.iloc[:,7].mean()\n",
    "media_tienda2= tienda2.iloc[:,7].mean()\n",
    "media_tienda3= tienda3.iloc[:,7].mean()\n",
    "media_tienda4= tienda4.iloc[:,7].mean()\n",
    "\n",
    "print('La media de calificación de la tienda 1 es: {:,.2f} \\nLa media de calificación de la tienda 2 es: {:,.2f} \\nLa media de calificación de la tienda 3 es: {:,.2f} \\nLa media de calificación de la tienda 4 es: {:,.2f} \\n '.format(media_tienda1,media_tienda2,media_tienda3,media_tienda4))\n"
   ],
   "metadata": {
    "id": "bh3jjjJwY5MU",
    "ExecuteTime": {
     "end_time": "2025-04-21T01:30:25.982090Z",
     "start_time": "2025-04-21T01:30:25.975460Z"
    }
   },
   "outputs": [
    {
     "name": "stdout",
     "output_type": "stream",
     "text": [
      "La media de calificación de la tienda 1 es: 3.98 \n",
      "La media de calificación de la tienda 2 es: 4.04 \n",
      "La media de calificación de la tienda 3 es: 4.05 \n",
      "La media de calificación de la tienda 4 es: 4.00 \n",
      " \n"
     ]
    }
   ],
   "execution_count": 36
  },
  {
   "cell_type": "code",
   "source": [],
   "metadata": {
    "id": "I0KkjPoTY88F"
   },
   "execution_count": null,
   "outputs": []
  },
  {
   "cell_type": "markdown",
   "source": [
    "# 4. Productos más y menos vendidos"
   ],
   "metadata": {
    "id": "DmNp1KPBZCm-"
   }
  },
  {
   "cell_type": "code",
   "source": [],
   "metadata": {
    "id": "qoyjqijQZHfF"
   },
   "execution_count": null,
   "outputs": []
  },
  {
   "cell_type": "code",
   "source": [],
   "metadata": {
    "id": "0Sw3sd4IZIGW"
   },
   "execution_count": null,
   "outputs": []
  },
  {
   "cell_type": "markdown",
   "source": [
    "# 5. Envío promedio por tienda"
   ],
   "metadata": {
    "id": "Fl0cGi3bZKqU"
   }
  },
  {
   "cell_type": "code",
   "source": [],
   "metadata": {
    "id": "S2JeaCykZNy9"
   },
   "execution_count": null,
   "outputs": []
  },
  {
   "cell_type": "code",
   "source": [],
   "metadata": {
    "id": "0tSdCie9ZQlt"
   },
   "execution_count": null,
   "outputs": []
  }
 ]
}
